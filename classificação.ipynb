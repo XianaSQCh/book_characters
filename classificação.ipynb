{
 "cells": [
  {
   "cell_type": "code",
   "execution_count": 1,
   "metadata": {},
   "outputs": [],
   "source": [
    "import pickle\n",
    "\n",
    "import pandas as pd\n",
    "import numpy as np"
   ]
  },
  {
   "cell_type": "code",
   "execution_count": 2,
   "metadata": {},
   "outputs": [],
   "source": [
    "def load_data_from_disk(file):\n",
    "    with open(file, 'rb') as fid:\n",
    "        data = pickle.load(fid)\n",
    "    return data"
   ]
  },
  {
   "cell_type": "code",
   "execution_count": 3,
   "metadata": {},
   "outputs": [
    {
     "name": "stdout",
     "output_type": "stream",
     "text": [
      "Dados:\n"
     ]
    },
    {
     "data": {
      "text/html": [
       "<div>\n",
       "<style scoped>\n",
       "    .dataframe tbody tr th:only-of-type {\n",
       "        vertical-align: middle;\n",
       "    }\n",
       "\n",
       "    .dataframe tbody tr th {\n",
       "        vertical-align: top;\n",
       "    }\n",
       "\n",
       "    .dataframe thead th {\n",
       "        text-align: right;\n",
       "    }\n",
       "</style>\n",
       "<table border=\"1\" class=\"dataframe\">\n",
       "  <thead>\n",
       "    <tr style=\"text-align: right;\">\n",
       "      <th></th>\n",
       "      <th>Title</th>\n",
       "      <th>Author</th>\n",
       "      <th>Year</th>\n",
       "      <th>Index</th>\n",
       "      <th>Classe</th>\n",
       "      <th>Medidas</th>\n",
       "    </tr>\n",
       "  </thead>\n",
       "  <tbody>\n",
       "    <tr>\n",
       "      <th>0</th>\n",
       "      <td>Beside the Bonnie Brier Bush</td>\n",
       "      <td>Ian Maclaren</td>\n",
       "      <td>1895</td>\n",
       "      <td>1</td>\n",
       "      <td>1</td>\n",
       "      <td>[0.016870766023970817, 0.5134629202554766, 0.2...</td>\n",
       "    </tr>\n",
       "    <tr>\n",
       "      <th>1</th>\n",
       "      <td>Trilby</td>\n",
       "      <td>George Du Maurier</td>\n",
       "      <td>1895</td>\n",
       "      <td>2</td>\n",
       "      <td>1</td>\n",
       "      <td>[0.007943628853858884, 0.5080680299438605, 0.1...</td>\n",
       "    </tr>\n",
       "    <tr>\n",
       "      <th>2</th>\n",
       "      <td>The Adventures of Captain Horn</td>\n",
       "      <td>Frank Richard Stockton</td>\n",
       "      <td>1895</td>\n",
       "      <td>3</td>\n",
       "      <td>1</td>\n",
       "      <td>[0.04249084249084249, 0.5155886357461207, 0.27...</td>\n",
       "    </tr>\n",
       "    <tr>\n",
       "      <th>3</th>\n",
       "      <td>The Manxman</td>\n",
       "      <td>Hall Caine</td>\n",
       "      <td>1895</td>\n",
       "      <td>4</td>\n",
       "      <td>1</td>\n",
       "      <td>[0.008818128269983714, 0.4963272963753215, 0.2...</td>\n",
       "    </tr>\n",
       "    <tr>\n",
       "      <th>4</th>\n",
       "      <td>The Princess Aline</td>\n",
       "      <td>Richard Harding Davis</td>\n",
       "      <td>1895</td>\n",
       "      <td>5</td>\n",
       "      <td>1</td>\n",
       "      <td>[0.07058001397624039, 0.5021140306022375, 0.35...</td>\n",
       "    </tr>\n",
       "    <tr>\n",
       "      <th>...</th>\n",
       "      <td>...</td>\n",
       "      <td>...</td>\n",
       "      <td>...</td>\n",
       "      <td>...</td>\n",
       "      <td>...</td>\n",
       "      <td>...</td>\n",
       "    </tr>\n",
       "    <tr>\n",
       "      <th>104</th>\n",
       "      <td>Crome Yellow</td>\n",
       "      <td>Aldous Huxley</td>\n",
       "      <td>1921</td>\n",
       "      <td>105</td>\n",
       "      <td>0</td>\n",
       "      <td>[0.020219314336961395, 0.5307688419361337, 0.2...</td>\n",
       "    </tr>\n",
       "    <tr>\n",
       "      <th>105</th>\n",
       "      <td>Ulysses</td>\n",
       "      <td>James Joyce</td>\n",
       "      <td>1922</td>\n",
       "      <td>106</td>\n",
       "      <td>0</td>\n",
       "      <td>[0.004957729803725697, 0.6591597862764352, 0.1...</td>\n",
       "    </tr>\n",
       "    <tr>\n",
       "      <th>106</th>\n",
       "      <td>The Love Story of Aliette Brunton</td>\n",
       "      <td>Gilbert Frankau</td>\n",
       "      <td>1922</td>\n",
       "      <td>107</td>\n",
       "      <td>0</td>\n",
       "      <td>[0.010752392979373708, 0.44053937422011186, 0....</td>\n",
       "    </tr>\n",
       "    <tr>\n",
       "      <th>107</th>\n",
       "      <td>Lady Into Fox</td>\n",
       "      <td>David Garnett</td>\n",
       "      <td>1922</td>\n",
       "      <td>108</td>\n",
       "      <td>0</td>\n",
       "      <td>[0.0553306342780027, 0.3112910481331534, 0.184...</td>\n",
       "    </tr>\n",
       "    <tr>\n",
       "      <th>108</th>\n",
       "      <td>Whose Body?</td>\n",
       "      <td>Dorothy L. Sayers</td>\n",
       "      <td>1923</td>\n",
       "      <td>109</td>\n",
       "      <td>0</td>\n",
       "      <td>[0.023079697078975843, 0.5759880072424451, 0.2...</td>\n",
       "    </tr>\n",
       "  </tbody>\n",
       "</table>\n",
       "<p>219 rows × 6 columns</p>\n",
       "</div>"
      ],
      "text/plain": [
       "                                 Title                  Author  Year  Index  \\\n",
       "0         Beside the Bonnie Brier Bush            Ian Maclaren  1895      1   \n",
       "1                               Trilby       George Du Maurier  1895      2   \n",
       "2       The Adventures of Captain Horn  Frank Richard Stockton  1895      3   \n",
       "3                          The Manxman              Hall Caine  1895      4   \n",
       "4                   The Princess Aline   Richard Harding Davis  1895      5   \n",
       "..                                 ...                     ...   ...    ...   \n",
       "104                       Crome Yellow           Aldous Huxley  1921    105   \n",
       "105                            Ulysses             James Joyce  1922    106   \n",
       "106  The Love Story of Aliette Brunton         Gilbert Frankau  1922    107   \n",
       "107                      Lady Into Fox           David Garnett  1922    108   \n",
       "108                        Whose Body?       Dorothy L. Sayers  1923    109   \n",
       "\n",
       "     Classe                                            Medidas  \n",
       "0         1  [0.016870766023970817, 0.5134629202554766, 0.2...  \n",
       "1         1  [0.007943628853858884, 0.5080680299438605, 0.1...  \n",
       "2         1  [0.04249084249084249, 0.5155886357461207, 0.27...  \n",
       "3         1  [0.008818128269983714, 0.4963272963753215, 0.2...  \n",
       "4         1  [0.07058001397624039, 0.5021140306022375, 0.35...  \n",
       "..      ...                                                ...  \n",
       "104       0  [0.020219314336961395, 0.5307688419361337, 0.2...  \n",
       "105       0  [0.004957729803725697, 0.6591597862764352, 0.1...  \n",
       "106       0  [0.010752392979373708, 0.44053937422011186, 0....  \n",
       "107       0  [0.0553306342780027, 0.3112910481331534, 0.184...  \n",
       "108       0  [0.023079697078975843, 0.5759880072424451, 0.2...  \n",
       "\n",
       "[219 rows x 6 columns]"
      ]
     },
     "metadata": {},
     "output_type": "display_data"
    }
   ],
   "source": [
    "concat = load_data_from_disk('all_books.pk')\n",
    "print('Dados:')\n",
    "display(concat)"
   ]
  },
  {
   "cell_type": "markdown",
   "metadata": {},
   "source": [
    "# Classificação"
   ]
  },
  {
   "cell_type": "markdown",
   "metadata": {},
   "source": [
    "### Dados"
   ]
  },
  {
   "cell_type": "code",
   "execution_count": 4,
   "metadata": {
    "scrolled": true
   },
   "outputs": [
    {
     "name": "stdout",
     "output_type": "stream",
     "text": [
      "\n",
      "Medidas:\n",
      " [[0.01687077 0.51346292 0.21447187 0.00866115 0.03273395 0.00328947]\n",
      " [0.00794363 0.50806803 0.15548366 0.00395328 0.02121082 0.00196464]\n",
      " [0.04249084 0.51558864 0.27463776 0.02413571 0.06300305 0.00952381]\n",
      " ...\n",
      " [0.01075239 0.44053937 0.21402717 0.00499774 0.02456768 0.00213675]\n",
      " [0.05533063 0.31129105 0.18403144 0.0264023  0.1041947  0.02564103]\n",
      " [0.0230797  0.57598801 0.25451741 0.01079309 0.03888033 0.00423729]]\n",
      "\n",
      "Classes de sucesso:\n",
      " [1 1 1 1 1 1 1 1 1 1 1 1 1 1 1 1 1 1 1 1 1 1 1 1 1 1 1 1 1 1 1 1 1 1 1 1 1\n",
      " 1 1 1 1 1 1 1 1 1 1 1 1 1 1 1 1 1 1 1 1 1 1 1 1 1 1 1 1 1 1 1 1 1 1 1 1 1\n",
      " 1 1 1 1 1 1 1 1 1 1 1 1 1 1 1 1 1 1 1 1 1 1 1 1 1 1 1 1 1 1 1 1 1 1 1 1 0\n",
      " 0 0 0 0 0 0 0 0 0 0 0 0 0 0 0 0 0 0 0 0 0 0 0 0 0 0 0 0 0 0 0 0 0 0 0 0 0\n",
      " 0 0 0 0 0 0 0 0 0 0 0 0 0 0 0 0 0 0 0 0 0 0 0 0 0 0 0 0 0 0 0 0 0 0 0 0 0\n",
      " 0 0 0 0 0 0 0 0 0 0 0 0 0 0 0 0 0 0 0 0 0 0 0 0 0 0 0 0 0 0 0 0 0 0]\n"
     ]
    }
   ],
   "source": [
    "X = np.array(concat['Medidas'])\n",
    "X = np.vstack(X) # cria um único array numpy com todas as medidas\n",
    "print('\\nMedidas:\\n', X)\n",
    "\n",
    "y = np.array(concat['Classe']) # classes de sucesso\n",
    "print(\"\\nClasses de sucesso:\\n\", y)"
   ]
  },
  {
   "cell_type": "markdown",
   "metadata": {},
   "source": [
    "### Separa em conjuntos de treinamento e teste"
   ]
  },
  {
   "cell_type": "markdown",
   "metadata": {},
   "source": [
    "tamanho de test = 25 %"
   ]
  },
  {
   "cell_type": "code",
   "execution_count": 6,
   "metadata": {},
   "outputs": [
    {
     "name": "stdout",
     "output_type": "stream",
     "text": [
      "Número de livros: 219\n",
      "Treino: 164\n",
      "Teste: 55\n"
     ]
    }
   ],
   "source": [
    "from sklearn.model_selection import train_test_split\n",
    "from sklearn.metrics import accuracy_score, classification_report, confusion_matrix\n",
    "\n",
    "X_train, X_test, y_train, y_test = train_test_split(X, y, test_size=0.25, random_state=42)\n",
    "\n",
    "print('Número de livros:', len(X))\n",
    "print('Treino:', len(X_train), )\n",
    "print('Teste:', len(X_test))"
   ]
  },
  {
   "cell_type": "markdown",
   "metadata": {},
   "source": [
    "## Modelos"
   ]
  },
  {
   "cell_type": "code",
   "execution_count": 7,
   "metadata": {},
   "outputs": [],
   "source": [
    "def train_and_evaluate_models(X_train, X_test, y_train, y_test, models):\n",
    "    results = {}\n",
    "    \n",
    "    for model_name, model in models.items():\n",
    "        model.fit(X_train, y_train)\n",
    "        y_pred = model.predict(X_test)\n",
    "        \n",
    "        accuracy = accuracy_score(y_test, y_pred)\n",
    "        report = classification_report(y_test, y_pred)\n",
    "        cm = confusion_matrix(y_test, y_pred)  # Calcula a matriz de confusão\n",
    "        \n",
    "        \n",
    "        results[model_name] = {\n",
    "            'model': model,\n",
    "            'accuracy': accuracy,\n",
    "            'classification_report': report,\n",
    "            'confusion_matrix': cm\n",
    "        }\n",
    "        \n",
    "    return results"
   ]
  },
  {
   "cell_type": "code",
   "execution_count": 8,
   "metadata": {},
   "outputs": [],
   "source": [
    "from sklearn.neighbors import KNeighborsClassifier\n",
    "from sklearn.ensemble import RandomForestClassifier\n",
    "\n",
    "\n",
    "from sklearn.pipeline import make_pipeline\n",
    "from sklearn.preprocessing import StandardScaler\n",
    "from sklearn.svm import SVC\n",
    "\n",
    "from sklearn import svm"
   ]
  },
  {
   "cell_type": "code",
   "execution_count": 17,
   "metadata": {},
   "outputs": [],
   "source": [
    "models = {\n",
    "    'KNN': KNeighborsClassifier(n_neighbors=5),\n",
    "    'Random Forest': RandomForestClassifier(max_depth=2, random_state=0),\n",
    "    'SVC': make_pipeline(StandardScaler(), SVC(gamma='auto')), # standarizado\n",
    "    }"
   ]
  },
  {
   "cell_type": "markdown",
   "metadata": {},
   "source": [
    "## Resultados"
   ]
  },
  {
   "cell_type": "markdown",
   "metadata": {},
   "source": [
    "- **Uma matriz de confusão** (confusion matrix) é uma ferramenta importante para avaliar o desempenho de modelos de classificação. Ela mostra a contagem de verdadeiros positivos (TP), verdadeiros negativos (TN), falsos positivos (FP) e falsos negativos (FN).\n",
    "\n",
    "[[TN  FP]\n",
    "\n",
    "[FN  TP]]\n"
   ]
  },
  {
   "cell_type": "code",
   "execution_count": 18,
   "metadata": {
    "scrolled": false
   },
   "outputs": [
    {
     "name": "stdout",
     "output_type": "stream",
     "text": [
      "Modelo: KNN\n",
      "Acurácia: 0.6545454545454545\n",
      "\n",
      "Relatório de Classificação:\n",
      "               precision    recall  f1-score   support\n",
      "\n",
      "           0       0.71      0.59      0.64        29\n",
      "           1       0.61      0.73      0.67        26\n",
      "\n",
      "    accuracy                           0.65        55\n",
      "   macro avg       0.66      0.66      0.65        55\n",
      "weighted avg       0.66      0.65      0.65        55\n",
      "\n",
      "Matriz de Confusão:\n",
      " [[17 12]\n",
      " [ 7 19]]\n",
      "\n",
      "\n",
      "Modelo: Random Forest\n",
      "Acurácia: 0.45454545454545453\n",
      "\n",
      "Relatório de Classificação:\n",
      "               precision    recall  f1-score   support\n",
      "\n",
      "           0       0.48      0.41      0.44        29\n",
      "           1       0.43      0.50      0.46        26\n",
      "\n",
      "    accuracy                           0.45        55\n",
      "   macro avg       0.46      0.46      0.45        55\n",
      "weighted avg       0.46      0.45      0.45        55\n",
      "\n",
      "Matriz de Confusão:\n",
      " [[12 17]\n",
      " [13 13]]\n",
      "\n",
      "\n",
      "Modelo: SVC\n",
      "Acurácia: 0.5454545454545454\n",
      "\n",
      "Relatório de Classificação:\n",
      "               precision    recall  f1-score   support\n",
      "\n",
      "           0       0.59      0.45      0.51        29\n",
      "           1       0.52      0.65      0.58        26\n",
      "\n",
      "    accuracy                           0.55        55\n",
      "   macro avg       0.55      0.55      0.54        55\n",
      "weighted avg       0.56      0.55      0.54        55\n",
      "\n",
      "Matriz de Confusão:\n",
      " [[13 16]\n",
      " [ 9 17]]\n",
      "\n",
      "\n"
     ]
    }
   ],
   "source": [
    "results = train_and_evaluate_models(X_train, X_test, y_train, y_test, models)\n",
    "\n",
    "for model_name, result in results.items():\n",
    "    print(f\"Modelo: {model_name}\")\n",
    "    print(\"Acurácia:\", result['accuracy'])\n",
    "    print(\"\\nRelatório de Classificação:\\n\", result['classification_report'])\n",
    "    print(\"Matriz de Confusão:\\n\", result['confusion_matrix'])\n",
    "    print(\"\\n\")"
   ]
  },
  {
   "cell_type": "code",
   "execution_count": 20,
   "metadata": {
    "scrolled": true
   },
   "outputs": [
    {
     "data": {
      "image/png": "[encoded data removed]",
      "text/plain": [
       "<Figure size 1000x400 with 3 Axes>"
      ]
     },
     "metadata": {},
     "output_type": "display_data"
    },
    {
     "data": {
      "image/png": "[encoded data removed]",
      "text/plain": [
       "<Figure size 1000x400 with 3 Axes>"
      ]
     },
     "metadata": {},
     "output_type": "display_data"
    },
    {
     "data": {
      "image/png": "[encoded data removed]",
      "text/plain": [
       "<Figure size 1000x400 with 3 Axes>"
      ]
     },
     "metadata": {},
     "output_type": "display_data"
    }
   ],
   "source": [
    "import matplotlib.pyplot as plt\n",
    "import numpy as np\n",
    "import seaborn as sns\n",
    "\n",
    "def plot_results(results):\n",
    "    for model_name, result in results.items():\n",
    "\n",
    "        report_lines = result['classification_report'].split('\\n')\n",
    "        precision, recall, f1_score, _ = map(float, report_lines[2].split()[1:])\n",
    "        \n",
    "        # Extrai a matriz de confusão\n",
    "        cm = result['confusion_matrix']\n",
    "        \n",
    "        # Cria um gráfico para visualizar as métricas\n",
    "        plt.figure(figsize=(10, 4))\n",
    "        plt.subplot(1, 2, 1)\n",
    "        sns.barplot(x=['Precision', 'Recall', 'F1-Score'], y=[precision, recall, f1_score], palette=\"flare\")\n",
    "        plt.title(f\"{model_name} Metrics\")\n",
    "        \n",
    "        # Cria um gráfico para a matriz de confusão\n",
    "        plt.subplot(1, 2, 2)\n",
    "        sns.heatmap(cm, annot=True, fmt='d', cmap=sns.cubehelix_palette(as_cmap=True))\n",
    "        plt.title(f\"{model_name} Confusion Matrix\")\n",
    "        \n",
    "        plt.savefig('metrics/' + model_name + '.png', dpi=300, bbox_inches='tight')\n",
    "        plt.show()\n",
    "\n",
    "plot_results(results)\n"
   ]
  },
  {
   "cell_type": "code",
   "execution_count": 23,
   "metadata": {},
   "outputs": [
    {
     "name": "stdout",
     "output_type": "stream",
     "text": [
      "Collecting tabulate\n",
      "  Downloading tabulate-0.9.0-py3-none-any.whl (35 kB)\n",
      "Installing collected packages: tabulate\n",
      "Successfully installed tabulate-0.9.0\n"
     ]
    }
   ],
   "source": [
    "!pip install tabulate"
   ]
  },
  {
   "cell_type": "markdown",
   "metadata": {},
   "source": [
    "- Tabela em formato Latex"
   ]
  },
  {
   "cell_type": "code",
   "execution_count": 38,
   "metadata": {
    "scrolled": true
   },
   "outputs": [
    {
     "name": "stdout",
     "output_type": "stream",
     "text": [
      "\\begin{table}[]\n",
      "\\begin{tabular}{lcccccccccc}\n",
      "Modelo & Acurácia  & \\multicolumn{2}{c}{Precisão} & \\multicolumn{2}{c}{Recall} & \\multicolumn{2}{c}{F1-Score} & \\multicolumn{2}{c}{Support} \\\\\n",
      "\\hline\n",
      "      &     & 1            & 0           & 1             & 0             & 1             & 0            &  1   & 0 \\\\ \n",
      "KNN & 0.65 & 0.61 & 0.71 & 0.73 & 0.59 & 0.67 & 0.64 & 26 & 29 \\\\\n",
      "Random Forest & 0.45 & 0.43 & 0.48 & 0.50 & 0.41 & 0.46 & 0.44 & 26 & 29 \\\\\n",
      "SVC & 0.55 & 0.52 & 0.59 & 0.65 & 0.45 & 0.58 & 0.51 & 26 & 29 \\\\\n",
      "\\end{tabular}\n",
      "\\end{table}\n"
     ]
    }
   ],
   "source": [
    "from tabulate import tabulate\n",
    "\n",
    "# Dicionário para armazenar as métricas de todos os modelos\n",
    "results = {}\n",
    "\n",
    "for model_name, model in models.items():\n",
    "    model.fit(X_train, y_train)\n",
    "    y_pred = model.predict(X_test)\n",
    "    \n",
    "    accuracy = accuracy_score(y_test, y_pred)\n",
    "    report = classification_report(y_test, y_pred, output_dict=True)\n",
    "    \n",
    "    results[model_name] = {\n",
    "        'accuracy': accuracy,\n",
    "        'report': report\n",
    "    }\n",
    "\n",
    "# Imprime a tabela LaTeX\n",
    "print(\"\\\\begin{table}[]\")\n",
    "print(\"\\\\begin{tabular}{lcccccccccc}\")\n",
    "print(\"Modelo & Acurácia  & \\\\multicolumn{2}{c}{Precisão} & \\\\multicolumn{2}{c}{Recall} & \\\\multicolumn{2}{c}{F1-Score} & \\\\multicolumn{2}{c}{Support} \\\\\\\\\")\n",
    "print(\"\\\\hline\")\n",
    "print(\"      &     & 1            & 0           & 1             & 0             & 1             & 0            &  1   & 0 \\\\\\\\ \")\n",
    "for model_name, result in results.items():\n",
    "    accuracy = result['accuracy']\n",
    "    report = result['report']\n",
    "    \n",
    "    precision_0 = report['0']['precision']\n",
    "    recall_0 = report['0']['recall']\n",
    "    f1_score_0 = report['0']['f1-score']\n",
    "    support_0 = report['0']['support']\n",
    "    \n",
    "    precision_1 = report['1']['precision']\n",
    "    recall_1 = report['1']['recall']\n",
    "    f1_score_1 = report['1']['f1-score']\n",
    "    support_1 = report['1']['support']\n",
    "    \n",
    "    print(f\"{model_name} & {accuracy:.2f} & {precision_1:.2f} & {precision_0:.2f} & {recall_1:.2f} & {recall_0:.2f} & {f1_score_1:.2f} & {f1_score_0:.2f} & {int(support_1)} & {int(support_0)} \\\\\\\\\")\n",
    "    \n",
    "print(\"\\\\end{tabular}\")\n",
    "print(\"\\\\end{table}\")\n"
   ]
  }
 ],
 "metadata": {
  "kernelspec": {
   "display_name": "Python 3.7 (new_env)",
   "language": "python",
   "name": "new_env"
  },
  "language_info": {
   "codemirror_mode": {
    "name": "ipython",
    "version": 3
   },
   "file_extension": ".py",
   "mimetype": "text/x-python",
   "name": "python",
   "nbconvert_exporter": "python",
   "pygments_lexer": "ipython3",
   "version": "3.7.16"
  }
 },
 "nbformat": 4,
 "nbformat_minor": 4
}
