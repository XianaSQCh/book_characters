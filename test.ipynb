{
 "cells": [
  {
   "cell_type": "code",
   "execution_count": 1,
   "id": "52381c57",
   "metadata": {},
   "outputs": [],
   "source": [
    "import re\n",
    "from nltk.corpus import wordnet\n",
    "from nltk.stem import WordNetLemmatizer\n",
    "from nltk.tokenize import word_tokenize\n",
    "import glob\n",
    "import io"
   ]
  },
  {
   "cell_type": "code",
   "execution_count": 2,
   "id": "7d2b149b",
   "metadata": {},
   "outputs": [],
   "source": [
    "import neuralcoref\n",
    "import spacy"
   ]
  },
  {
   "cell_type": "code",
   "execution_count": 4,
   "id": "19a10115",
   "metadata": {},
   "outputs": [],
   "source": [
    "def standardize_text(book, cutting_flag=False):\n",
    "    # removing all \\r\n",
    "    book = book.replace('\\r', '')\n",
    "    # marking all paragraph starts (\\n\\n) with .\\r for later\n",
    "    book = book.replace('\\n\\n', '\\r')\n",
    "    # replacing all \\r with \\n\\n to remark the paragraphs\n",
    "    book = book.replace('\\r', '\\n\\n')\n",
    "    # replacing any possible duplicated full stops\n",
    "    book = book.replace('..', '.')\n",
    "    # reconstructing possible damaged ellipsis (...)\n",
    "    book = book.replace('..', '...')\n",
    "    # removing underscores\n",
    "    book = book.replace('_', '')\n",
    "    # removing guion\n",
    "    book = book.replace('-', ' ')\n",
    "    return book"
   ]
  },
  {
   "cell_type": "code",
   "execution_count": 5,
   "id": "ae3348f2",
   "metadata": {},
   "outputs": [],
   "source": [
    "def remove_chapter_markers(book, book_id):\n",
    "    paragraphs = book.split('\\n\\n')\n",
    "    paragraphs_new = []\n",
    "    chapters = []\n",
    "    old_idx = 0\n",
    "    contents = []\n",
    "    for paragraph in paragraphs:\n",
    "        lines = paragraph.split('\\n')\n",
    "        if re.match('[IVXLCDM\\d]+[\\.]*', lines[0].upper().strip()):\n",
    "            if len(contents) == 0:\n",
    "                contents = [\" \".join(line.lower().split()) for line in lines]\n",
    "                if len(contents) == 0:\n",
    "                    print(\"Not found content\", book_id)\n",
    "                    exit()\n",
    "            continue\n",
    "        if paragraph.lower().strip() in contents:\n",
    "            if old_idx == 0:\n",
    "                old_idx = len(paragraphs_new)\n",
    "            else:\n",
    "                current_idx = len(paragraphs_new)\n",
    "                chapter = \"\\n\\n\".join(paragraphs_new[old_idx:current_idx])\n",
    "                chapters.append(chapter)\n",
    "                old_idx = current_idx\n",
    "            continue\n",
    "        if not re.match('.*[\\w]+.*', paragraph):\n",
    "            continue\n",
    "        paragraphs_new.append(paragraph)\n",
    "    if old_idx != 0:#last chapter\n",
    "        chapter = \"\\n\\n\".join(paragraphs_new[old_idx:len(paragraphs_new)])\n",
    "        chapters.append(chapter)\n",
    "    print(len(paragraphs), len(paragraphs_new), len(chapters))\n",
    "    return paragraphs_new, chapters"
   ]
  },
  {
   "cell_type": "code",
   "execution_count": 6,
   "id": "bb7b634f",
   "metadata": {},
   "outputs": [],
   "source": [
    "def retrieve_text(index):\n",
    "    f = io.open(str(index) + '.txt', 'r', encoding='utf-8')\n",
    "    text = f.read()\n",
    "    f.close()\n",
    "    return text"
   ]
  },
  {
   "cell_type": "code",
   "execution_count": 14,
   "id": "43e2b750",
   "metadata": {},
   "outputs": [],
   "source": [
    "def extract_ner_par(book_id):\n",
    "    book = standardize_text(retrieve_text(book_id))\n",
    "    paragraphs, chapters = remove_chapter_markers(book, book_id)\n",
    "    geral_entities = []\n",
    "    with open(book_id + \".txt\", \"w\") as f:\n",
    "        for i, paragraph in enumerate(paragraphs):\n",
    "            paragraph = paragraph.replace('\\n', ' ')\n",
    "            paragraph = \" \".join(paragraph.split())\n",
    "            doc = nlp(paragraph)\n",
    "            doc_coref = doc._.coref_resolved\n",
    "            doc_coref = nlp(doc_coref)\n",
    "            entities = []\n",
    "            for ent in doc_coref.ents:\n",
    "                if ent.label_ == \"PERSON\":\n",
    "                    entities.append(ent.text)\n",
    "        if len(entities)>0:\n",
    "            len_words = len(paragraph.split())\n",
    "            geral_entities.extend(entities)\n",
    "            f.write(\"[\"+str(len_words)+\"]\")\n",
    "            f.write(\", \".join(entities)+\"\\n\")\n",
    "    print(set(geral_entities))"
   ]
  },
  {
   "cell_type": "code",
   "execution_count": 8,
   "id": "debab3e9",
   "metadata": {},
   "outputs": [
    {
     "name": "stdout",
     "output_type": "stream",
     "text": [
      "2.1.3\n"
     ]
    }
   ],
   "source": [
    "print(spacy.__version__)"
   ]
  },
  {
   "cell_type": "code",
   "execution_count": 9,
   "id": "d46fb296",
   "metadata": {},
   "outputs": [
    {
     "name": "stdout",
     "output_type": "stream",
     "text": [
      "4.0.0\n"
     ]
    }
   ],
   "source": [
    "print(neuralcoref.__version__)"
   ]
  },
  {
   "cell_type": "code",
   "execution_count": 10,
   "id": "5e9cc388",
   "metadata": {},
   "outputs": [],
   "source": [
    "book_id = 13\n",
    "dir_books = \"books_dataset_1/\"\n",
    "txt_files = glob.glob(dir_books + \"*.txt\")"
   ]
  },
  {
   "cell_type": "code",
   "execution_count": 11,
   "id": "032d6e4e",
   "metadata": {
    "scrolled": true
   },
   "outputs": [],
   "source": [
    "nlp = spacy.load('en_core_web_sm')"
   ]
  },
  {
   "cell_type": "code",
   "execution_count": 12,
   "id": "bdc0076a",
   "metadata": {},
   "outputs": [
    {
     "data": {
      "text/plain": [
       "<spacy.lang.en.English at 0x7f561f2d2f50>"
      ]
     },
     "execution_count": 12,
     "metadata": {},
     "output_type": "execute_result"
    }
   ],
   "source": [
    "neuralcoref.add_to_pipe(nlp)"
   ]
  },
  {
   "cell_type": "code",
   "execution_count": null,
   "id": "ab974469",
   "metadata": {},
   "outputs": [
    {
     "name": "stdout",
     "output_type": "stream",
     "text": [
      "Reading...books_dataset_1/CharlesDarwin_GeologicalObservationsOnSouthAmerica\n",
      "1 1 0\n",
      "{'Reeks', 'Quebrada Onda', 'Mesodesma', 'Ann', 'JULIAN', \"M. Parchappe's\", 'S. Andres', \"M. d'Orbigny's\", 'Meyen', 'W. 25 degrees', 'Spongolithis Fustis', 'Megalonyx Jeffersonii', 'H. De la Beche', 'Brand \"Travels', 'Bettington', 'Sentinella', '4]Spirifer', 'A. Hayes', 'Owen', 'S. Wolcotii', 'Balanus', 'S. Anna', 'Iquique', 'Domeykus', 'Plazilla', 'Sulivan', 'Huapi', 'Turritella', 'M. E. de Beaumont', 'M. Terrace 2', 'M. Rose', 'Perna Americana', 'Murchison', 'M. Isabelle', '—of Coquimbo', 'Weaver', 'Glyptodon', 'Mytilus Magellanicus', 'Crassatella', 'Terebra', 'Formen', 'Himalaya', 'R. Brown', 'Pernambuco', 'B. Tulipa', 'Calyptraea', 'Maria', \"D'Orbigny\", 'Mary', 'M. Tschudi', 'Eunotia', 'Gamboa', 'Lumb', 'W. 19 degrees', 'Festlande', \"D'Aubuisson\", 'H. Unanue', \"M. D'Orbigny T.\", 'S. Pedro de Nolasko', 'Fusus Cleryanus', 'M. Domeyko', 'Sierras Tapalguen', 'G. Orientalis', 'Williams', 'Isabellei', 'M. Terrace', 'Azara', 'R. Schomburgk', 'S. Tinta', 'Tierra Amarilla', 'Miocene', 'E. Dieffenbach', 'Place', 'Lieutenant Stokes', 'Ypun', 'S. Miguel', '989]E. Forbes', 'Scutella', 'Rancagua', 'S. Cruz', 'Rosa', 'S. Nicholas', 'W. JUDD', 'Santandres', 'Hornos', 'M. Chevalier', '—of S. Lorenzo', 'S. Angelis', 'Fernando', 'Pleurotoma', 'Cobija', 'J.D. Dana', 'Lucia', 'Kent', 'Inlet', 'R. Quinto', 'Herbert', 'Cucullaea', 'S. Julian.—Santa Cruz', 'Dufresnoy', 'Joseph Hooker', '8]Astarte Darwinii', 'Maypu', 'Pleurotomaria Humboldtii', 'Miers', 'Cruz', 'Negro.—S.', 'Chitons', 'Martius', '8]Erman', 'M. Bonpland', 'Serra', '254]T. Reeks', 'Coscinodiscus al.', 'J. Lehmann', 'Mytilus', 'M. Hermoso', 'Pecten Dufreynoyi', 'Smith', 'Los Hornos', '72]Darwin', 'Malcolmson', 'Fusus Patagonicus', 'Forbes', 'Carpenter', 'Ctenomys Braziliensis', \"S. Julian's\", 'F. Muniz', 'M. de Tschudi', 'Belcher', 'Caldcleugh', 'S. JosefS. Josef', 'Ehrenberg', 'S. Desolation', \"M. d'Orbigny\", 'Stokes', 'Jordan Hill', 'Pequenes', \"M. Elie de Beaumont's\", \"M. D'Orbigny\", 'Spongolithis', '529]B. Oriental', 'Mexillones', 'Oliva Turritella', 'Las Averias', 'Darwin', 'Ostrea Patagonica', 'Lam', 'M. Gay', 'Daniel Sharpe', 'Magellanicus', 'H.D. Rogers', 'S. Fernando', 'Gryphaea', 'Knochen Lager', 'A. Geikie', 'S. Muniz', 'S. Julian', 'Uspallata', 'M. Gaudichaud', 'Gabriel Channel', \"W. Parish's\", 'Monte Hermoso', '—of Copiapo', 'Abich', '—of Coquimbo [16]Chiloe', 'Mytilus Chiloensis', 'S. Nicolas', 'S. Blas', 'S. Estevan', 'Gorodona', 'Blanco', 'Signor Angelis', 'Mylodon Darwinii', 'Von Buch', 'S. Tapalguen', 'Peuquenes', 'Miller', 'Castro', 'Cytheraea', 'M. Lund', 'T. Patagonica', 'S. Carlos', 'Lyell', 'Buenos Ayres', \"E. Forbes's\", 'Freyer', 'S. Cristoval', 'Shells', 'Erman', 'S. Ventana', 'Hitchcock', 'F. X. Muniz', 'Sowerby', 'Arrecifes', 'Turritella Andii', 'S. Josef', 'Spirifer', 'Sprengel', 'Observaciones', 'Gay', 'Gallionella', 'Cordillera', 'Fusus', 'N. 11 degrees', 'S. de las Animas', 'S. Rosa', 'M. Parchappe', 'W. Parish', 'Josef', 'North', 'M. Bravais', 'George', 'Brown', 'Dana', 'G. Rose', 'P. S. Julian', 'Fissurella', 'Lambert', 'Roderick Murchison', 'M. Cordier', 'R. Murchison', 'G. Darwinii', 'E. Forbes', '125]S. Josef', 'A. Gabrielis', 'Akad', 'Pedro', 'Clay', 'Rio de Janeiro', 'Memoir', 'F. Lower', 'Roy', 'M. Ballard', 'H. Reusch', 'Hopkins', 'Tapalguen', '2]Buenos Ayres', 'Mylodon', 'S.', 'Concholepas', 'Lirguen', 'Brande', 'Patella', 'Gryphaea Darwinii', 'Gillies', 'Silliman', 'M. Shells', 'Eck', 'Cardona', 'Kerodon', 'Lea', '74]Ehrenberg', 'Anna Pink', 'Fusus Magellanicus', 'Chiquitos', 'Spix', 'Fitton', 'Lima', 'M.', 'Portmaster'}\n",
      "Reading...books_dataset_1/ThomasHardy_AChangedManAndOtherTales\n",
      "1 1 0\n",
      "{'Bristol', 'Jim', 'Johnny', 'Christine', 'Swanhills', '68]Newton', '88]Captain', 'Fred Ogbourne', 'John Clark', 'Ash Lane', '43]Nicholas', '92]Nicholas', '83]Johnny', 'Roger', 'B.', 'S. Kemble', '85]David Heddegan', 'Thomas', 'Christopher Swetman', 'Mary', 'Luke Holway', 'John Maumbry', 'Captain Maumbry', '8]Swetman', 'Fred', 'Nicholas Long', 'Elizabeth', 'John [83]Johnny', '46]Shakeforest Towers', '62]Nic', '56]Bill Mills', 'Versailles Charles', 'Holway', '27]Laura', 'Ogbourne', 'James Bellston', 'Alicia', 'Christopher', 'H.', 'Jack', \"Nicholas Christine's\", '46]Jown Jown', 'Clark', 'Horseleigh', 'David', 'Poor Fred', 'Wace', 'John Horseleigh', '40]Christine', 'Dun', 'Stow', 'Laura', 'Frederick', 'Duke', 'Vannicock', \"M. de la Feste'\", 'M. Charles de la Feste', 'M. de la Feste', 'Caroline', 'Pen', 'Charles', 'Hullo', 'James', 'Bob Heartall', 'Laura Laura', 'Squire', 'Ede', '51]Baptista', 'Nic', \"87]Nicholas Long's\", \"Stone'd\", 'Marlets', 'Nicholas', 'Luke', 'Duchess', 'Paddock', 'Squire Everard', 'Madame', 'John', 'Captain Ogbourne', 'Christine Everard', 'Charles Stow', 'Heddegan', '51]Thomas', 'Towers', 'Ezra Cattstock', 'Swetman', 'Miller', 'Easter', 'Bill Mills', 'Roy Town', 'Ezra', 'Bellston', \"Nicholas Long's\", 'Richard Phelipson', '26]David Heddegan', 'Harriet', \"John'll\", '38]Nicholas Long', 'Jim Bellston', 'Richard Toller', 'Maumbry', 'George', 'David Heddegan', 'Richard', 'Baptista Heddegan', 'Cattstock', 'William Byrt', 'Chalk Newton', 'Owlett', 'Edith', 'this M. de la Feste', 'Bartholomew Miller', 'Betsy', 'Wherryborne Rectory', '30]Squire Everard', 'Wall', \"Jim Bellston's\", 'Untravelled'}\n",
      "Reading...books_dataset_1/NathanielHawthorne_TrueStoriesfromHistoryandBiography\n",
      "1 1 0\n",
      "{'55]George', 'Wrangel', 'Marmaduke Stephenson', 'Thomas Pownall', '71]Peter Warren', '47]Hutchinson', 'Little Alice', 'Christina', '87]Greene', 'Alice', 'Cromwell', 'Samuel Johnson Dictionary', 'Ben [37]Ben', 'Samuel Johnson Rasselas', '18]Benjamin', 'Bernard', 'Samuel Johnson', 'Elliot', '92]Richard Saltonstall', 'Babel', '20]William Howe', 'Peters', 'John Adams', 'Henry Vane', 'Sparks', 'Laurence', 'Chaldaic', 'Noll', 'Mather', 'Timothy Pickering', 'Oliver Cromwell', 'Hutchinson', '82]Justice Oliver', 'Richard’s Richard’s', 'Oliver Majesty', 'Hale', 'Queen Christina', 'Charles Lee', 'William', 'Richard Saltonstall', 'James Majesty', 'Virgil', 'Bradstreet', 'Benjamin Franklin', 'Ben [85]Benjamin', 'Lars Larrson', 'Normandy', 'Williams', 'Betsey', 'Philip', 'Boylston Mather’s', '86]Uttoxeter', 'Anne Hutchinson', 'Algier', 'Warren', 'Charlie', 'Benjamin West', '81]Clara', 'Black Beard', '38]Benjamin Franklin', 'Isaac Newton', 'Larrson', 'William Hawthorne', 'Jack', 'Eliot', 'Clara', 'Pitcairn', 'Joseph Dudley', 'Hull', 'Captain Hull', 'Sam', '16]Jacob Abbott', 'Josiah Quincy', '86]Hutchinson', 'Leverett', 'Puss', 'Samuel Adams', 'Edmund Randolph', 'Evangeline', 'Samuel Johnson Idler', '146]Ben', 'Temple', '22]Ben Franklin', 'Leslie', 'Gustavus', 'Walter', 'John Eliot', 'Uttoxeter', 'Charles', 'Arbella', 'Belcher', 'John Mathias', 'James', 'Ben', 'Endicott', 'Richard Dana', '56]Roger Williams', 'Winthrop', '84]Oliver', '79]Benjamin', 'Joseph Warren’s', '97]Francis Bernard', 'Pennington', 'William Phips', 'Willard', 'Dyer', 'Lady Arbella’s', '38]Michael Johnson', '83]Temple', 'Francis Bernard', 'Stuart', 'Wolfe', 'Hugh Peters', 'Charles James Fox', 'Franklin', 'John Endicott', 'John Hull’s', 'Shirley', 'Oliver', 'Rose Algier', 'Samuel Sewell', 'Samuel Sewell Hull', 'Walker', 'Hurra', 'Bute', 'Anathemas', 'Boylston', '65]Jeffrey Amherst', 'Edmund Burke', 'Mather Byles', 'Grandfather', 'Adams', '13]Benjamin', 'Emily Robinson', 'Louis the', 'Ben [103]Ben', 'Tom Thumb', '73]John Hull', 'Lyman', 'Samuel Johnson Rambler', 'John Hull', 'Prince Charles', 'Joy', 'Judson', 'Andrew Oliver [', 'John Hancock', 'Cotton Mather’s', 'Mary Dyer', '14]Jacob Abbott', 'Nathaniel Greene', 'Hutchins', '91]Cotton Mather', 'Mayflower', 'Jeffrey Amherst', 'Dryden', 'Johnson', 'Michael Johnson', 'Edmund Andros', 'Philip English', 'Dieskau', 'Cotton Mather Mather’s', 'Thomas Hutchinson', 'Lady Arbella', 'George', 'Everett', 'Richard', 'Elisha Cooke', 'Benjamin', 'Laurence Grandfather', 'George’s', 'Samuel', 'David Rittenhouse', 'Jacob Abbott', 'Charley', 'Noll Cromwell', 'Majesty', 'Amen', 'Sam Johnson', '99]Ben', 'William Robinson', 'Francis Wheeler', 'Isaac', 'Robinson', 'Edward', 'Ramilies', 'William Howe', 'Charles the', '22]Ben', 'Richard’s', 'Abraham', 'Gustavus Adolphus', 'Cotton Mather', 'James Otis', 'Ben West', 'Simon Bradstreet', 'George George', 'Providence', 'Roger Williams', 'Ezekiel Cheever', 'Knox', 'Ben Franklin'}\n",
      "Reading...books_dataset_1/NathanielHawthorne_BlithedaleRomance\n",
      "1 1 0\n"
     ]
    },
    {
     "name": "stdout",
     "output_type": "stream",
     "text": [
      "{'Adam', 'Lady', 'Silas Foster Foster', 'Eliot', 'Hollingsworth', 'Westervelt', '59]Silas Foster', '59]Eliot', 'Foster', \"George Sand's\", 'Moodie', 'Esquimaux', \"O'Shanter\", 'Silas', 'Margaret Fuller', 'Silas Foster', 'Burns', 'Duke', 'Tableaux', 'Sisera', 'Lynn', \"Tam O'Shanter\", 'Jim Crow', '15]Priscilla', 'Theodore', '173]Paul Dudley', 'Charles', 'Goldsmith', 'Eve', 'Priscilla', '85]Silas Foster', 'Devil', 'Michael Scott', '40]Silas Foster', 'Priscilla Priscilla', '87]Theodore'}\n",
      "Reading...books_dataset_1/ ZaneGrey_TheManoftheForest\n",
      "1 1 0\n"
     ]
    }
   ],
   "source": [
    "exclude_author = []\n",
    "for txt_file in txt_files:\n",
    "    id_file = txt_file.replace(\".txt\",\"\")\n",
    "    print(\"Reading...\" + id_file)\n",
    "    extract_ner_par(id_file)\n"
   ]
  },
  {
   "cell_type": "code",
   "execution_count": null,
   "id": "5f053d17",
   "metadata": {},
   "outputs": [],
   "source": []
  },
  {
   "cell_type": "code",
   "execution_count": null,
   "id": "3be819a6",
   "metadata": {},
   "outputs": [],
   "source": []
  }
 ],
 "metadata": {
  "kernelspec": {
   "display_name": "conda_env",
   "language": "python",
   "name": "conda_env"
  },
  "language_info": {
   "codemirror_mode": {
    "name": "ipython",
    "version": 3
   },
   "file_extension": ".py",
   "mimetype": "text/x-python",
   "name": "python",
   "nbconvert_exporter": "python",
   "pygments_lexer": "ipython3",
   "version": "3.7.16"
  }
 },
 "nbformat": 4,
 "nbformat_minor": 5
}
