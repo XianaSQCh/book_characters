{
 "cells": [
  {
   "cell_type": "code",
   "execution_count": 1,
   "id": "ec960503",
   "metadata": {},
   "outputs": [],
   "source": [
    "import pandas as pd"
   ]
  },
  {
   "cell_type": "code",
   "execution_count": null,
   "id": "e5add3de",
   "metadata": {
    "scrolled": false
   },
   "outputs": [],
   "source": [
    "#Others (1895 - 1923)\n",
    "dfo = pd.read_csv('catalog_v0.xlsx - other.csv')\n",
    "dfo['Classe'] = 0\n",
    "dfo.head()"
   ]
  },
  {
   "cell_type": "code",
   "execution_count": null,
   "id": "6108585d",
   "metadata": {},
   "outputs": [],
   "source": [
    "# Publishers Weekly’s Bestselling Novels,,,\n",
    "dfs = pd.read_csv('catalog_v0.xlsx - success.csv')\n",
    "dfs['Classe'] = 1\n",
    "dfs.head()"
   ]
  },
  {
   "cell_type": "code",
   "execution_count": null,
   "id": "d9a9cdb3",
   "metadata": {},
   "outputs": [],
   "source": [
    "name = ''.join(dfs[\"Title\"][0].split())\n",
    "index = dfs[\"Index\"][0]\n",
    "namesearch = index + '_' + name\n",
    "print(namesearch)"
   ]
  },
  {
   "cell_type": "code",
   "execution_count": null,
   "id": "1127739f",
   "metadata": {
    "scrolled": true
   },
   "outputs": [],
   "source": [
    "concat = pd.concat([dfs, dfo], axis=0)\n",
    "concat"
   ]
  },
  {
   "cell_type": "code",
   "execution_count": null,
   "id": "d17785ca",
   "metadata": {},
   "outputs": [],
   "source": []
  },
  {
   "cell_type": "markdown",
   "id": "c8b51694",
   "metadata": {},
   "source": [
    "## Reconhecimento de entidades"
   ]
  },
  {
   "cell_type": "code",
   "execution_count": 3,
   "id": "5179b294",
   "metadata": {},
   "outputs": [],
   "source": [
    "import os\n",
    "import io\n",
    "import re\n",
    "\n",
    "from nltk.corpus import wordnet\n",
    "from nltk.stem import WordNetLemmatizer\n",
    "from nltk.tokenize import word_tokenize\n",
    "from collections import Counter\n",
    "import pandas as pd"
   ]
  },
  {
   "cell_type": "code",
   "execution_count": 4,
   "id": "9fce829b",
   "metadata": {},
   "outputs": [],
   "source": [
    "import neuralcoref\n",
    "import spacy "
   ]
  },
  {
   "cell_type": "code",
   "execution_count": 5,
   "id": "0d795263",
   "metadata": {},
   "outputs": [
    {
     "name": "stdout",
     "output_type": "stream",
     "text": [
      "spacy version: 2.1.3\n",
      "neuralcoref version: 4.0.0\n"
     ]
    }
   ],
   "source": [
    "print('spacy version:', spacy.__version__)\n",
    "print('neuralcoref version:', neuralcoref.__version__)"
   ]
  },
  {
   "cell_type": "code",
   "execution_count": 6,
   "id": "72c8034f",
   "metadata": {},
   "outputs": [],
   "source": [
    "def read_file(path):\n",
    "    try:\n",
    "        with io.open(path, 'r', encoding='utf-8') as f:\n",
    "            return f.read()\n",
    "    except UnicodeDecodeError:\n",
    "        try:\n",
    "            with io.open(path, 'r', encoding='latin-1') as f:\n",
    "                return f.read()\n",
    "        except UnicodeDecodeError:\n",
    "            return \"Could not decode\"\n",
    "    "
   ]
  },
  {
   "cell_type": "code",
   "execution_count": 7,
   "id": "7869a07b",
   "metadata": {
    "scrolled": true
   },
   "outputs": [
    {
     "name": "stdout",
     "output_type": "stream",
     "text": [
      "Content of book ... 2_Trilby_GeorgeDuMaurier_cleared.txt\n",
      "\n"
     ]
    }
   ],
   "source": [
    "folder = \"success\"\n",
    "\n",
    "# files sorted by number\n",
    "files_ordered = sorted(os.listdir(folder), key=lambda name:int(name.split('_')[0]))\n",
    "\n",
    "# an example file (1)\n",
    "file = files_ordered[1]\n",
    "\n",
    "# identifica os livros do dataset succes_others com os files\n",
    "# if namesearch.lower() in file.lower():\n",
    "#     print(namesearch, file)\n",
    "#-----------------------------------------------------------\n",
    "\n",
    "# name file\n",
    "path = os.path.join(folder, file)\n",
    "\n",
    "if os.path.isfile(path):\n",
    "    content = read_file(path)\n",
    "    print(f\"Content of book ... {file}\\n\")\n",
    "    # print(content)"
   ]
  },
  {
   "cell_type": "code",
   "execution_count": 8,
   "id": "6524a45b",
   "metadata": {
    "scrolled": false
   },
   "outputs": [],
   "source": [
    "paragraphs = content.split('\\n\\n')\n",
    "# print(paragraphs)"
   ]
  },
  {
   "cell_type": "code",
   "execution_count": 9,
   "id": "13c58d79",
   "metadata": {},
   "outputs": [
    {
     "name": "stdout",
     "output_type": "stream",
     "text": [
      "2407 1987\n"
     ]
    }
   ],
   "source": [
    "paragraphs_new = []\n",
    "contents = []\n",
    "chapters = []\n",
    "old_idx = 0\n",
    "\n",
    "for paragraph in paragraphs:\n",
    "    # print(\"\\n Paragraph: \", paragraph)\n",
    "    \n",
    "    lines = paragraph.split('\\n')\n",
    "    # print(lines)\n",
    "    if re.match('[IVXLCDM\\d]+[\\.]*', lines[0].upper().strip()):\n",
    "        if len(contents) == 0:\n",
    "            contents = [\" \".join(line.lower().split()) for line in lines]\n",
    "            # print(\"contents\", contents)\n",
    "            \n",
    "            if len(contents) == 0:\n",
    "                print(\"Not found content\", id_file)\n",
    "                exit()\n",
    "        continue\n",
    "           \n",
    "    if paragraph.lower().strip() in contents:\n",
    "        if old_idx == 0:\n",
    "            old_idx = len(paragraphs_new)\n",
    "        else:\n",
    "            current_idx = len(paragraphs_new)\n",
    "            chapter = \"\\n\\n\".join(paragraphs_new[old_idx:current_idx])\n",
    "            chapters.append(chapter)\n",
    "            old_idx = current_idx\n",
    "        continue\n",
    "    \n",
    "    if not re.match('.*[\\w]+.*', paragraph):\n",
    "        continue\n",
    "    \n",
    "    paragraphs_new.append(paragraph)\n",
    " \n",
    "\n",
    "    if old_idx != 0:\n",
    "        chapter = \"\\n\\n\".join(paragraphs_new[old_idx:len(paragraphs_new)])\n",
    "        chapters.append(chapter)\n",
    "        \n",
    "print(len(paragraphs), len(paragraphs_new),\n",
    "      #len(chapters)\n",
    "     )    "
   ]
  },
  {
   "cell_type": "code",
   "execution_count": 10,
   "id": "f9aa98cb",
   "metadata": {},
   "outputs": [
    {
     "data": {
      "text/plain": [
       "<spacy.lang.en.English at 0x7f795b979c50>"
      ]
     },
     "execution_count": 10,
     "metadata": {},
     "output_type": "execute_result"
    }
   ],
   "source": [
    "nlp = spacy.load('en_core_web_sm')\n",
    "neuralcoref.add_to_pipe(nlp)"
   ]
  },
  {
   "cell_type": "code",
   "execution_count": 11,
   "id": "f92e0fe0",
   "metadata": {
    "scrolled": false
   },
   "outputs": [
    {
     "name": "stdout",
     "output_type": "stream",
     "text": [
      "1 20 ['Mimi Pinson', 'Landérirette']\n",
      "2 72 ['Broadwood']\n",
      "3 74 ['Dante', \"Michael Angelo's\", 'Leda']\n",
      "4 39 ['Rembrandt', 'Tintoret', 'Leonardo da Vinci', 'Botticelli', 'Mantegna']\n",
      "5 129 ['Barye']\n",
      "9 86 ['the Man of Blood', 'the Man of Blood', 'Bare-armed', 'the Man of Blood', 'the Man of Blood', 'the Man of Blood', 'the Man of Blood', 'the Man of Blood']\n",
      "11 104 ['Sothern']\n",
      "13 101 ['Sandy']\n",
      "\n",
      "Geral Entities:\n",
      " ['the Man of Blood', 'Mimi Pinson', 'Sandy', \"Michael Angelo's\", 'Landérirette', 'Broadwood', 'Botticelli', 'Leda', 'Barye', 'Bare-armed', 'Tintoret', 'Rembrandt', 'Leonardo da Vinci', 'Mantegna', 'Dante', 'Sothern']\n"
     ]
    }
   ],
   "source": [
    "data = []\n",
    "geral_entities = []\n",
    "\n",
    "for i, paragraph in enumerate(paragraphs_new[0:15]):\n",
    "    paragraph = paragraph.replace('\\n', ' ')\n",
    "    paragraph = \" \".join(paragraph.split())\n",
    "    # print('\\n', paragraph)****\n",
    "    \n",
    "    doc = nlp(paragraph)\n",
    "    doc_coref = doc._.coref_resolved\n",
    "    doc_coref = nlp(doc_coref)\n",
    "    \n",
    "    entities = []\n",
    "    for ent in doc_coref.ents:\n",
    "        if ent.label_ == \"PERSON\":\n",
    "            entities.append(ent.text)\n",
    "    \n",
    "    if len(entities) > 0:\n",
    "        len_words = len(paragraph.split())\n",
    "        geral_entities.extend(entities)\n",
    "        \n",
    "        data.append((i, len_words, entities))\n",
    "        # print('\\n', paragraph)\n",
    "        print(i, len_words, entities)\n",
    "\n",
    "personagens = list(set(geral_entities) )\n",
    "\n",
    "print(\"\\nGeral Entities:\\n\", personagens)\n",
    "# print(\"\\nData:\\n\", data)"
   ]
  },
  {
   "cell_type": "code",
   "execution_count": null,
   "id": "0efa3bd4",
   "metadata": {
    "scrolled": true
   },
   "outputs": [],
   "source": [
    "print(geral_entities)\n",
    "print('\\n', Counter(geral_entities))"
   ]
  },
  {
   "cell_type": "code",
   "execution_count": null,
   "id": "941a2c91",
   "metadata": {},
   "outputs": [],
   "source": []
  },
  {
   "cell_type": "code",
   "execution_count": null,
   "id": "73dbfbd5",
   "metadata": {},
   "outputs": [],
   "source": []
  },
  {
   "cell_type": "markdown",
   "id": "b4522463",
   "metadata": {},
   "source": [
    "## Criação de rede de coocorrência"
   ]
  },
  {
   "cell_type": "code",
   "execution_count": 33,
   "id": "f68a8939",
   "metadata": {
    "scrolled": true
   },
   "outputs": [
    {
     "name": "stdout",
     "output_type": "stream",
     "text": [
      "Matriz de Coocorrência:\n",
      "[[1 0 0 0 0 0 0 0 0 1 0 0 0 0 0 0]\n",
      " [0 1 0 0 1 0 0 0 0 0 0 0 0 0 0 0]\n",
      " [0 0 1 0 0 0 0 0 0 0 0 0 0 0 0 0]\n",
      " [0 0 0 1 0 0 0 1 0 0 0 0 0 0 1 0]\n",
      " [0 1 0 0 1 0 0 0 0 0 0 0 0 0 0 0]\n",
      " [0 0 0 0 0 1 0 0 0 0 0 0 0 0 0 0]\n",
      " [0 0 0 0 0 0 1 0 0 0 1 1 1 1 0 0]\n",
      " [0 0 0 1 0 0 0 1 0 0 0 0 0 0 1 0]\n",
      " [0 0 0 0 0 0 0 0 1 0 0 0 0 0 0 0]\n",
      " [1 0 0 0 0 0 0 0 0 1 0 0 0 0 0 0]\n",
      " [0 0 0 0 0 0 1 0 0 0 1 1 1 1 0 0]\n",
      " [0 0 0 0 0 0 1 0 0 0 1 1 1 1 0 0]\n",
      " [0 0 0 0 0 0 1 0 0 0 1 1 1 1 0 0]\n",
      " [0 0 0 0 0 0 1 0 0 0 1 1 1 1 0 0]\n",
      " [0 0 0 1 0 0 0 1 0 0 0 0 0 0 1 0]\n",
      " [0 0 0 0 0 0 0 0 0 0 0 0 0 0 0 1]]\n"
     ]
    }
   ],
   "source": [
    "import numpy as np\n",
    "import networkx as nx\n",
    "import matplotlib.pyplot as plt\n",
    "\n",
    "# Inicializa a matriz de coocorrência\n",
    "cooccurrence_matrix = np.zeros((len(personagens), len(personagens)), dtype=int)\n",
    "\n",
    "# Preenche a matriz de coocorrência\n",
    "for _, _, paragraph_entities in data:\n",
    "    for i in range(len(personagens)):\n",
    "        if personagens[i] in paragraph_entities:\n",
    "            for j in range(i, len(personagens)):\n",
    "                if personagens[j] in paragraph_entities:\n",
    "                    cooccurrence_matrix[i][j] += 1\n",
    "                    if i != j:\n",
    "                        cooccurrence_matrix[j][i] += 1\n",
    "                               \n",
    "print(\"Matriz de Coocorrência:\")\n",
    "print(cooccurrence_matrix)"
   ]
  },
  {
   "cell_type": "code",
   "execution_count": 34,
   "id": "536ddd4b",
   "metadata": {},
   "outputs": [
    {
     "name": "stdout",
     "output_type": "stream",
     "text": [
      "Lista de Arestas (edges):\n",
      "[('the Man of Blood', 'Bare-armed'), ('Mimi Pinson', 'Landérirette'), (\"Michael Angelo's\", 'Leda'), (\"Michael Angelo's\", 'Dante'), ('Botticelli', 'Tintoret'), ('Botticelli', 'Rembrandt'), ('Botticelli', 'Leonardo da Vinci'), ('Botticelli', 'Mantegna'), ('Leda', 'Dante'), ('Tintoret', 'Rembrandt'), ('Tintoret', 'Leonardo da Vinci'), ('Tintoret', 'Mantegna'), ('Rembrandt', 'Leonardo da Vinci'), ('Rembrandt', 'Mantegna'), ('Leonardo da Vinci', 'Mantegna')]\n"
     ]
    }
   ],
   "source": [
    "co_matrix = np.array(cooccurrence_matrix)\n",
    "\n",
    "# Lista de arestas a ser preenchida\n",
    "edges = []\n",
    "\n",
    "# Percorre a matriz de coocorrência\n",
    "for i in range(len(personagens)):\n",
    "    for j in range(i + 1, len(personagens)):\n",
    "        # Se houver coocorrência, adiciona a aresta\n",
    "        if co_matrix[i][j] > 0:\n",
    "            edges.append((personagens[i], personagens[j]))\n",
    "\n",
    "# Imprime a lista de arestas\n",
    "print(\"Lista de Arestas (edges):\")\n",
    "print(edges)"
   ]
  },
  {
   "cell_type": "code",
   "execution_count": 59,
   "id": "76c446d2",
   "metadata": {},
   "outputs": [
    {
     "data": {
      "image/png": "[encoded data removed]",
      "text/plain": [
       "<Figure size 600x600 with 1 Axes>"
      ]
     },
     "metadata": {},
     "output_type": "display_data"
    }
   ],
   "source": [
    "# Criação do grafo\n",
    "G = nx.Graph()\n",
    "G.add_edges_from(edges)\n",
    "\n",
    "# Visualização do grafo\n",
    "# pos = nx.spring_layout(G)\n",
    "pos = nx.circular_layout(G)\n",
    "\n",
    "plt.figure(figsize=(6, 6))\n",
    "\n",
    "nx.draw(G,\n",
    "        pos,\n",
    "        with_labels=True,\n",
    "        node_color=\"#FF8080\",\n",
    "        node_size=500,#**\n",
    "        edge_cmap=plt.cm.GnBu,\n",
    "        font_size=9,\n",
    "        font_weight='bold',\n",
    "        edge_color='gray',\n",
    "        width=1)\n",
    "plt.title(\"Rede de Personagens do Livro\")\n",
    "plt.show()"
   ]
  },
  {
   "cell_type": "code",
   "execution_count": 61,
   "id": "83444d55",
   "metadata": {},
   "outputs": [
    {
     "ename": "KeyError",
     "evalue": "'weight'",
     "output_type": "error",
     "traceback": [
      "\u001b[0;31m---------------------------------------------------------------------------\u001b[0m",
      "\u001b[0;31mKeyError\u001b[0m                                  Traceback (most recent call last)",
      "\u001b[0;32m/tmp/ipykernel_97150/2257311667.py\u001b[0m in \u001b[0;36m<module>\u001b[0;34m\u001b[0m\n\u001b[1;32m      1\u001b[0m \u001b[0medges\u001b[0m \u001b[0;34m=\u001b[0m \u001b[0mG\u001b[0m\u001b[0;34m.\u001b[0m\u001b[0medges\u001b[0m\u001b[0;34m(\u001b[0m\u001b[0;34m)\u001b[0m\u001b[0;34m\u001b[0m\u001b[0;34m\u001b[0m\u001b[0m\n\u001b[0;32m----> 2\u001b[0;31m \u001b[0mweights\u001b[0m \u001b[0;34m=\u001b[0m \u001b[0;34m[\u001b[0m\u001b[0mG\u001b[0m\u001b[0;34m[\u001b[0m\u001b[0mu\u001b[0m\u001b[0;34m]\u001b[0m\u001b[0;34m[\u001b[0m\u001b[0mv\u001b[0m\u001b[0;34m]\u001b[0m\u001b[0;34m[\u001b[0m\u001b[0;34m'weight'\u001b[0m\u001b[0;34m]\u001b[0m \u001b[0;32mfor\u001b[0m \u001b[0mu\u001b[0m\u001b[0;34m,\u001b[0m \u001b[0mv\u001b[0m \u001b[0;32min\u001b[0m \u001b[0medges\u001b[0m\u001b[0;34m]\u001b[0m\u001b[0;34m\u001b[0m\u001b[0;34m\u001b[0m\u001b[0m\n\u001b[0m\u001b[1;32m      3\u001b[0m \u001b[0mcolors\u001b[0m \u001b[0;34m=\u001b[0m \u001b[0;34m[\u001b[0m\u001b[0mG\u001b[0m\u001b[0;34m[\u001b[0m\u001b[0mu\u001b[0m\u001b[0;34m]\u001b[0m\u001b[0;34m[\u001b[0m\u001b[0mv\u001b[0m\u001b[0;34m]\u001b[0m\u001b[0;34m[\u001b[0m\u001b[0;34m'color'\u001b[0m\u001b[0;34m]\u001b[0m \u001b[0;32mfor\u001b[0m \u001b[0mu\u001b[0m\u001b[0;34m,\u001b[0m \u001b[0mv\u001b[0m \u001b[0;32min\u001b[0m \u001b[0medges\u001b[0m\u001b[0;34m]\u001b[0m\u001b[0;34m\u001b[0m\u001b[0;34m\u001b[0m\u001b[0m\n",
      "\u001b[0;32m/tmp/ipykernel_97150/2257311667.py\u001b[0m in \u001b[0;36m<listcomp>\u001b[0;34m(.0)\u001b[0m\n\u001b[1;32m      1\u001b[0m \u001b[0medges\u001b[0m \u001b[0;34m=\u001b[0m \u001b[0mG\u001b[0m\u001b[0;34m.\u001b[0m\u001b[0medges\u001b[0m\u001b[0;34m(\u001b[0m\u001b[0;34m)\u001b[0m\u001b[0;34m\u001b[0m\u001b[0;34m\u001b[0m\u001b[0m\n\u001b[0;32m----> 2\u001b[0;31m \u001b[0mweights\u001b[0m \u001b[0;34m=\u001b[0m \u001b[0;34m[\u001b[0m\u001b[0mG\u001b[0m\u001b[0;34m[\u001b[0m\u001b[0mu\u001b[0m\u001b[0;34m]\u001b[0m\u001b[0;34m[\u001b[0m\u001b[0mv\u001b[0m\u001b[0;34m]\u001b[0m\u001b[0;34m[\u001b[0m\u001b[0;34m'weight'\u001b[0m\u001b[0;34m]\u001b[0m \u001b[0;32mfor\u001b[0m \u001b[0mu\u001b[0m\u001b[0;34m,\u001b[0m \u001b[0mv\u001b[0m \u001b[0;32min\u001b[0m \u001b[0medges\u001b[0m\u001b[0;34m]\u001b[0m\u001b[0;34m\u001b[0m\u001b[0;34m\u001b[0m\u001b[0m\n\u001b[0m\u001b[1;32m      3\u001b[0m \u001b[0mcolors\u001b[0m \u001b[0;34m=\u001b[0m \u001b[0;34m[\u001b[0m\u001b[0mG\u001b[0m\u001b[0;34m[\u001b[0m\u001b[0mu\u001b[0m\u001b[0;34m]\u001b[0m\u001b[0;34m[\u001b[0m\u001b[0mv\u001b[0m\u001b[0;34m]\u001b[0m\u001b[0;34m[\u001b[0m\u001b[0;34m'color'\u001b[0m\u001b[0;34m]\u001b[0m \u001b[0;32mfor\u001b[0m \u001b[0mu\u001b[0m\u001b[0;34m,\u001b[0m \u001b[0mv\u001b[0m \u001b[0;32min\u001b[0m \u001b[0medges\u001b[0m\u001b[0;34m]\u001b[0m\u001b[0;34m\u001b[0m\u001b[0;34m\u001b[0m\u001b[0m\n",
      "\u001b[0;31mKeyError\u001b[0m: 'weight'"
     ]
    }
   ],
   "source": [
    "edges = G.edges()\n",
    "weights = [G[u][v]['weight'] for u, v in edges]\n",
    "colors = [G[u][v]['color'] for u, v in edges]"
   ]
  },
  {
   "cell_type": "code",
   "execution_count": null,
   "id": "ccdec9f8",
   "metadata": {},
   "outputs": [],
   "source": []
  },
  {
   "cell_type": "code",
   "execution_count": null,
   "id": "2a1921e2",
   "metadata": {},
   "outputs": [],
   "source": [
    "import networkx as nx\n",
    "import matplotlib.pyplot as plt\n",
    "\n",
    "matrix = cooccurrence_matrix\n",
    "name_list = personagens\n",
    "name_frequency = list(Counter(geral_entities).values()) #******\n",
    "\n",
    "label = {i: i for i in name_list}\n",
    "edge_list = edge_list # de celda anterior\n",
    "# normalized_frequency = np.array(name_frequency) / np.max(name_frequency)\n",
    "\n",
    "plt.figure(figsize=(20, 20))\n",
    "G = nx.Graph()\n",
    "G.add_nodes_from(name_list)\n",
    "G.add_edges_from(edge_list)\n",
    "pos = nx.circular_layout(G)\n",
    "edges = G.edges()\n",
    "weights = [G[u][v]['weight'] for u, v in edges]\n",
    "colors = [G[u][v]['color'] for u, v in edges]\n",
    "\n",
    "nx.draw(G,\n",
    "        pos,\n",
    "        node_color='#FF8080',\n",
    "        node_size=np.sqrt(normalized_frequency) * 5000,\n",
    "        edge_cmap=plt.cm.GnBu,\n",
    "        linewidths=10, font_size=35, labels=label,\n",
    "        edge_color=colors, \n",
    "        with_labels=True, \n",
    "        width=weights)\n",
    "\n",
    "plt.show()"
   ]
  },
  {
   "cell_type": "code",
   "execution_count": null,
   "id": "51df10af",
   "metadata": {},
   "outputs": [],
   "source": []
  },
  {
   "cell_type": "code",
   "execution_count": null,
   "id": "1de696bc",
   "metadata": {},
   "outputs": [],
   "source": []
  },
  {
   "cell_type": "code",
   "execution_count": null,
   "id": "dc76c3d7",
   "metadata": {},
   "outputs": [],
   "source": []
  },
  {
   "cell_type": "code",
   "execution_count": null,
   "id": "42b73f93",
   "metadata": {},
   "outputs": [],
   "source": []
  },
  {
   "cell_type": "code",
   "execution_count": null,
   "id": "c9578f9d",
   "metadata": {},
   "outputs": [],
   "source": []
  }
 ],
 "metadata": {
  "kernelspec": {
   "display_name": "Python 3.7 (new_env)",
   "language": "python",
   "name": "new_env"
  },
  "language_info": {
   "codemirror_mode": {
    "name": "ipython",
    "version": 3
   },
   "file_extension": ".py",
   "mimetype": "text/x-python",
   "name": "python",
   "nbconvert_exporter": "python",
   "pygments_lexer": "ipython3",
   "version": "3.7.16"
  }
 },
 "nbformat": 4,
 "nbformat_minor": 5
}
